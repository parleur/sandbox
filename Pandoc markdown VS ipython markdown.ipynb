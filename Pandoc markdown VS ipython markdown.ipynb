{
 "metadata": {
  "name": "",
  "signature": "sha256:1a6028af16c2f663c88f88bba9f380d54f2fdf494ebd9c08005cd0654b117911"
 },
 "nbformat": 3,
 "nbformat_minor": 0,
 "worksheets": [
  {
   "cells": [
    {
     "cell_type": "heading",
     "level": 1,
     "metadata": {},
     "source": [
      "The topic"
     ]
    },
    {
     "cell_type": "markdown",
     "metadata": {},
     "source": [
      "Well IPython use a custom markdown syntax, I have been explained that it is convenient for many reasons and I've agreed with them. But one day I try to export a ipynb with nbconvert and it just doesn't render the same as the notebook, event with the html rendering ... the hell. The only wysiwyg way to produce a exact html copy of a notebook is the html navigator export.\n",
      "\n",
      "What I prospect here is a way is way(s) to produce html nbconvert exact same render than in the notebook, for instance by producing the exact same html."
     ]
    },
    {
     "cell_type": "heading",
     "level": 2,
     "metadata": {},
     "source": [
      "Pandoc"
     ]
    },
    {
     "cell_type": "markdown",
     "metadata": {},
     "source": [
      "As I ve looked into IPython, it seems two markdown -> html have been used. First is the __marked__ markdown renderer. It have been patched on the fly by IPython dev for the interactive notebook purpose. The second renderer is the __Pandoc__ renderer that have advantages to be convertible (by pandoc) into many other format. But, as the Pandoc, renderer isn't the __marked__ renderer, it doesn't produce the same html code and that is a sources of bug ... well as long as these two render coexists."
     ]
    },
    {
     "cell_type": "heading",
     "level": 2,
     "metadata": {},
     "source": [
      "The renderers from insides IPython"
     ]
    },
    {
     "cell_type": "code",
     "collapsed": false,
     "input": [
      "from IPython.display import HTML, Latex"
     ],
     "language": "python",
     "metadata": {},
     "outputs": [],
     "prompt_number": 17
    },
    {
     "cell_type": "heading",
     "level": 3,
     "metadata": {},
     "source": [
      "The IPython renderer:"
     ]
    },
    {
     "cell_type": "code",
     "collapsed": false,
     "input": [
      "import IPython.nbconvert.filters.markdown as m"
     ],
     "language": "python",
     "metadata": {},
     "outputs": [],
     "prompt_number": 18
    },
    {
     "cell_type": "code",
     "collapsed": false,
     "input": [
      "m.markdown2html(\"# Hello {#coucou}\")"
     ],
     "language": "python",
     "metadata": {},
     "outputs": [
      {
       "metadata": {},
       "output_type": "pyout",
       "prompt_number": 19,
       "text": [
        "u'<h1 id=\"hello-coucou-\">Hello {#coucou}</h1>'"
       ]
      }
     ],
     "prompt_number": 19
    },
    {
     "cell_type": "heading",
     "level": 3,
     "metadata": {},
     "source": [
      "The nbconvert renderers:"
     ]
    },
    {
     "cell_type": "code",
     "collapsed": false,
     "input": [
      "HTML(m.markdown2html_pandoc(\"# Hello {#coucou}\"))"
     ],
     "language": "python",
     "metadata": {},
     "outputs": [
      {
       "html": [
        "<h1 id=\"coucou\">Hello</h1>"
       ],
       "metadata": {},
       "output_type": "pyout",
       "prompt_number": 20,
       "text": [
        "<IPython.core.display.HTML object>"
       ]
      }
     ],
     "prompt_number": 20
    },
    {
     "cell_type": "code",
     "collapsed": false,
     "input": [
      "HTML(m.markdown2html_pandoc(\"[A label](#coucou)\"))"
     ],
     "language": "python",
     "metadata": {},
     "outputs": [
      {
       "html": [
        "<p><a href=\"#coucou\">A label</a></p>"
       ],
       "metadata": {},
       "output_type": "pyout",
       "prompt_number": 21,
       "text": [
        "<IPython.core.display.HTML object>"
       ]
      }
     ],
     "prompt_number": 21
    },
    {
     "cell_type": "heading",
     "level": 1,
     "metadata": {},
     "source": [
      "Some interresting features:"
     ]
    },
    {
     "cell_type": "heading",
     "level": 2,
     "metadata": {},
     "source": [
      "Inline notes"
     ]
    },
    {
     "cell_type": "code",
     "collapsed": false,
     "input": [
      "truc = \"\"\"A footnote ^[an inline note infact]\"\"\"\n",
      "HTML(m.markdown2html_pandoc(truc))"
     ],
     "language": "python",
     "metadata": {},
     "outputs": [
      {
       "html": [
        "<p>A footnote <a href=\"#fn1\" class=\"footnoteRef\" id=\"fnref1\"><sup>1</sup></a></p>\n",
        "<div class=\"footnotes\">\n",
        "<hr />\n",
        "<ol>\n",
        "<li id=\"fn1\"><p>an inline note infact<a href=\"#fnref1\">\u21a9</a></p></li>\n",
        "</ol>\n",
        "</div>"
       ],
       "metadata": {},
       "output_type": "pyout",
       "prompt_number": 22,
       "text": [
        "<IPython.core.display.HTML object>"
       ]
      }
     ],
     "prompt_number": 22
    },
    {
     "cell_type": "heading",
     "level": 2,
     "metadata": {},
     "source": [
      "Footnotes"
     ]
    },
    {
     "cell_type": "code",
     "collapsed": false,
     "input": [
      "truc = \"\"\"A footnote,[^1] kjsdhfklj\n",
      "\n",
      "[^1]: bla bla\n",
      "\n",
      "\"\"\"\n",
      "HTML(m.markdown2html_pandoc(truc))"
     ],
     "language": "python",
     "metadata": {},
     "outputs": [
      {
       "html": [
        "<p>A footnote,<a href=\"#fn1\" class=\"footnoteRef\" id=\"fnref1\"><sup>1</sup></a> kjsdhfklj</p>\n",
        "<div class=\"footnotes\">\n",
        "<hr />\n",
        "<ol>\n",
        "<li id=\"fn1\"><p>bla bla<a href=\"#fnref1\">\u21a9</a></p></li>\n",
        "</ol>\n",
        "</div>"
       ],
       "metadata": {},
       "output_type": "pyout",
       "prompt_number": 23,
       "text": [
        "<IPython.core.display.HTML object>"
       ]
      }
     ],
     "prompt_number": 23
    },
    {
     "cell_type": "heading",
     "level": 2,
     "metadata": {},
     "source": [
      "General latex macro"
     ]
    },
    {
     "cell_type": "code",
     "collapsed": false,
     "input": [
      "truc = \"\"\"\\\\newcommand{\\\\tuple}[1]{\\\\langle #1 \\\\rangle}\n",
      "\n",
      "$\\\\tuple{a, b, c}$\n",
      "\"\"\"\n",
      "\n",
      "HTML(m.markdown2html_pandoc(truc))"
     ],
     "language": "python",
     "metadata": {},
     "outputs": [
      {
       "html": [
        "<p><span class=\"math\">\\({\\langle a, b, c \\rangle}\\)</span></p>"
       ],
       "metadata": {},
       "output_type": "pyout",
       "prompt_number": 24,
       "text": [
        "<IPython.core.display.HTML object>"
       ]
      }
     ],
     "prompt_number": 24
    },
    {
     "cell_type": "markdown",
     "metadata": {},
     "source": [
      "Here, the macro isn't handled by Mathjax ... but by Pandoc, so there is no need to have dirty macro cell in your document and the Latex code you generate could be copy and paste directly. If you export in Latex, the macro isn't expanded so as your source remains understandable. Well Pandoc's clever isn't it ?\n",
      "\n",
      "If anyway you ld rather to expose your macro... then it is possible in a MathJax structure (on following example the square is here to allow to right-click on MathJax object and expose the macro)"
     ]
    },
    {
     "cell_type": "code",
     "collapsed": false,
     "input": [
      "truc = \"\"\"$\\\\newcommand{\\\\tuple}[1]{\\\\langle #1 \\\\rangle} \\square$\n",
      "\n",
      "$\\\\tuple{a, b, c}$\n",
      "\"\"\"\n",
      "\n",
      "HTML(m.markdown2html_pandoc(truc))"
     ],
     "language": "python",
     "metadata": {},
     "outputs": [
      {
       "html": [
        "<p><span class=\"math\">\\(\\newcommand{\\tuple}[1]{\\langle #1 \\rangle} \\square\\)</span></p>\n",
        "<p><span class=\"math\">\\(\\tuple{a, b, c}\\)</span></p>"
       ],
       "metadata": {},
       "output_type": "pyout",
       "prompt_number": 25,
       "text": [
        "<IPython.core.display.HTML object>"
       ]
      }
     ],
     "prompt_number": 25
    },
    {
     "cell_type": "markdown",
     "metadata": {},
     "source": [
      "Well I will not enumerate all Pandoc features... It is quite a standard right now and obviously it seems better not to recode all these things. Furthermore, mixing syntax in a special IPython notebook would need a lot of documentation to expose all features that usuals dev doesn't like to write ( included me of course )."
     ]
    },
    {
     "cell_type": "heading",
     "level": 1,
     "metadata": {},
     "source": [
      "A pandoc markdown renderer that have features of IPython markdown"
     ]
    },
    {
     "cell_type": "heading",
     "level": 2,
     "metadata": {},
     "source": [
      "The $$ syntax"
     ]
    },
    {
     "cell_type": "markdown",
     "metadata": {},
     "source": [
      "The usual case:"
     ]
    },
    {
     "cell_type": "code",
     "collapsed": false,
     "input": [
      "truc = \"\"\"\n",
      "We define $f^e$:\n",
      "$$\n",
      "f_e: \\\\vec{x} \\\\rightarrow f(\\\\vec{x}^+) + \\\\nabla_f(\\\\vec{x}^+) (x - x^+)\n",
      "$$\n",
      "\"\"\"\n",
      "\n",
      "HTML(m.markdown2latex(truc))"
     ],
     "language": "python",
     "metadata": {},
     "outputs": [
      {
       "html": [
        "We define $f^e$: \\[\n",
        "f_e: \\vec{x} \\rightarrow f(\\vec{x}^+) + \\nabla_f(\\vec{x}^+) (x - x^+)\n",
        "\\]"
       ],
       "metadata": {},
       "output_type": "pyout",
       "prompt_number": 26,
       "text": [
        "<IPython.core.display.HTML object>"
       ]
      }
     ],
     "prompt_number": 26
    },
    {
     "cell_type": "markdown",
     "metadata": {},
     "source": [
      "Pandoc markdown"
     ]
    },
    {
     "cell_type": "code",
     "collapsed": false,
     "input": [
      "HTML(m.markdown2html_pandoc(truc))"
     ],
     "language": "python",
     "metadata": {},
     "outputs": [
      {
       "html": [
        "<p>We define <span class=\"math\">\\(f^e\\)</span>: <span class=\"math\">\\[\n",
        "f_e: \\vec{x} \\rightarrow f(\\vec{x}^+) + \\nabla_f(\\vec{x}^+) (x - x^+)\n",
        "\\]</span></p>"
       ],
       "metadata": {},
       "output_type": "pyout",
       "prompt_number": 27,
       "text": [
        "<IPython.core.display.HTML object>"
       ]
      }
     ],
     "prompt_number": 27
    },
    {
     "cell_type": "markdown",
     "metadata": {},
     "source": [
      "Works !"
     ]
    },
    {
     "cell_type": "heading",
     "level": 3,
     "metadata": {},
     "source": [
      "The ```\\begin{equation} [...] \\end{equation}``` syntax"
     ]
    },
    {
     "cell_type": "code",
     "collapsed": false,
     "input": [
      "test2 = \"\"\"\n",
      "We define $f^e$:\n",
      "\\\\begin{equation}\n",
      "f_e: \\\\vec{x} \\\\rightarrow f(\\\\vec{x}^+) + \\\\nabla_f(\\\\vec{x}^+) (x - x^+)\n",
      "\\\\end{equation}\n",
      "\"\"\"\n",
      "HTML(m.markdown2html_pandoc(test2))"
     ],
     "language": "python",
     "metadata": {},
     "outputs": [
      {
       "html": [
        "We define <span class=\"math\">\\(f^e\\)</span>:"
       ],
       "metadata": {},
       "output_type": "pyout",
       "prompt_number": 28,
       "text": [
        "<IPython.core.display.HTML object>"
       ]
      }
     ],
     "prompt_number": 28
    },
    {
     "cell_type": "markdown",
     "metadata": {},
     "source": [
      "Works not so well ... Not I have to dive a bit in Pandoc. As far I understand the doc, internal Pandoc AST is a kind of JSON, so let's see what it is inside:"
     ]
    },
    {
     "cell_type": "code",
     "collapsed": false,
     "input": [
      "from IPython.nbconvert.utils.pandoc import pandoc\n",
      "import json\n",
      "json.loads(pandoc(test2, 'markdown', 'JSON'))"
     ],
     "language": "python",
     "metadata": {},
     "outputs": [
      {
       "metadata": {},
       "output_type": "pyout",
       "prompt_number": 29,
       "text": [
        "[{u'unMeta': {}},\n",
        " [{u'c': [{u'c': u'We', u't': u'Str'},\n",
        "    {u'c': [], u't': u'Space'},\n",
        "    {u'c': u'define', u't': u'Str'},\n",
        "    {u'c': [], u't': u'Space'},\n",
        "    {u'c': [{u'c': [], u't': u'InlineMath'}, u'f^e'], u't': u'Math'},\n",
        "    {u'c': u':', u't': u'Str'}],\n",
        "   u't': u'Plain'},\n",
        "  {u'c': [u'latex',\n",
        "    u'\\\\begin{equation}\\nf_e: \\\\vec{x} \\\\rightarrow f(\\\\vec{x}^+) + \\\\nabla_f(\\\\vec{x}^+) (x - x^+)\\n\\\\end{equation}'],\n",
        "   u't': u'RawBlock'}]]"
       ]
      }
     ],
     "prompt_number": 29
    },
    {
     "cell_type": "markdown",
     "metadata": {},
     "source": [
      "Well looking into Pandoc doc (lol), it appears that everythings that is enclosed by a ```\\begin{} [...] \\end{} ``` is treated as RawLatex block. It means it is only rendered in Latex export. Well if I write a Pandoc Json filter, I should be able to give a representation for this kind of block.\n",
      "\n",
      "Go to [this link](http://johnmacfarlane.net/pandoc/scripting.html) for the documentation I ve used."
     ]
    },
    {
     "cell_type": "heading",
     "level": 2,
     "metadata": {},
     "source": [
      "Pandoc python filter"
     ]
    },
    {
     "cell_type": "markdown",
     "metadata": {},
     "source": [
      "Well I'd prefer to learn Haskell ... tomorrow :-)"
     ]
    },
    {
     "cell_type": "code",
     "collapsed": false,
     "input": [
      "!pip install --user pandocfilters"
     ],
     "language": "python",
     "metadata": {},
     "outputs": [
      {
       "output_type": "stream",
       "stream": "stdout",
       "text": [
        "Requirement already satisfied (use --upgrade to upgrade): pandocfilters in /home/parleur/.local/lib/python2.7/site-packages\r\n",
        "Cleaning up...\r\n"
       ]
      }
     ],
     "prompt_number": 30
    },
    {
     "cell_type": "markdown",
     "metadata": {},
     "source": [
      "Pandoc filters works that way:"
     ]
    },
    {
     "cell_type": "raw",
     "metadata": {},
     "source": [
      "                         source format\n",
      "                              \u2193\n",
      "                           (pandoc)\n",
      "                              \u2193\n",
      "                      JSON-formatted AST\n",
      "                              \u2193\n",
      "                           (filter)\n",
      "                              \u2193\n",
      "                      JSON-formatted AST\n",
      "                              \u2193\n",
      "                           (pandoc)\n",
      "                              \u2193\n",
      "                        target format"
     ]
    },
    {
     "cell_type": "heading",
     "level": 3,
     "metadata": {},
     "source": [
      "Warming up"
     ]
    },
    {
     "cell_type": "markdown",
     "metadata": {},
     "source": [
      "A stupid filter that capitalize all string."
     ]
    },
    {
     "cell_type": "code",
     "collapsed": false,
     "input": [
      "%%writefile bla.py\n",
      "#! /usr/bin/env python\n",
      "from pandocfilters import toJSONFilter, Str\n",
      "\n",
      "def unraw(key, value, format, meta):\n",
      "    if key == 'Str':\n",
      "        return Str(value.upper())\n",
      "\n",
      "if __name__ == \"__main__\":\n",
      "    toJSONFilter(unraw)"
     ],
     "language": "python",
     "metadata": {},
     "outputs": [
      {
       "output_type": "stream",
       "stream": "stdout",
       "text": [
        "Overwriting bla.py\n"
       ]
      }
     ],
     "prompt_number": 31
    },
    {
     "cell_type": "code",
     "collapsed": false,
     "input": [
      "%%writefile test.txt\n",
      "We define $f^e$:\n",
      "\\begin{equation}\n",
      "f_e: \\vec{x} \\rightarrow f(\\vec{x}^+) + \\nabla_f(\\vec{x}^+) (x - x^+)\n",
      "\\end{equation}"
     ],
     "language": "python",
     "metadata": {},
     "outputs": [
      {
       "output_type": "stream",
       "stream": "stdout",
       "text": [
        "Overwriting test.txt\n"
       ]
      }
     ],
     "prompt_number": 32
    },
    {
     "cell_type": "code",
     "collapsed": false,
     "input": [
      "!chmod +x bla.py"
     ],
     "language": "python",
     "metadata": {},
     "outputs": [],
     "prompt_number": 33
    },
    {
     "cell_type": "code",
     "collapsed": false,
     "input": [
      "!pandoc -f markdown -t JSON --filter ./bla.py test.txt"
     ],
     "language": "python",
     "metadata": {},
     "outputs": [
      {
       "output_type": "stream",
       "stream": "stdout",
       "text": [
        "[{\"unMeta\":{}},[{\"t\":\"Plain\",\"c\":[{\"t\":\"Str\",\"c\":\"WE\"},{\"t\":\"Space\",\"c\":[]},{\"t\":\"Str\",\"c\":\"DEFINE\"},{\"t\":\"Space\",\"c\":[]},{\"t\":\"Math\",\"c\":[{\"t\":\"InlineMath\",\"c\":[]},\"f^e\"]},{\"t\":\"Str\",\"c\":\":\"}]},{\"t\":\"RawBlock\",\"c\":[\"latex\",\"\\\\begin{equation}\\nf_e: \\\\vec{x} \\\\rightarrow f(\\\\vec{x}^+) + \\\\nabla_f(\\\\vec{x}^+) (x - x^+)\\n\\\\end{equation}\"]}]]\r\n"
       ]
      }
     ],
     "prompt_number": 34
    },
    {
     "cell_type": "code",
     "collapsed": false,
     "input": [
      "pandoc(test2, 'markdown', 'JSON', extra_args=['--filter ./bla.py'])"
     ],
     "language": "python",
     "metadata": {},
     "outputs": [
      {
       "metadata": {},
       "output_type": "pyout",
       "prompt_number": 35,
       "text": [
        "u''"
       ]
      }
     ],
     "prompt_number": 35
    },
    {
     "cell_type": "markdown",
     "metadata": {},
     "source": [
      "Doesn't work internaly ... anyway I first fix the filter then, I ll see how to include it in IPython."
     ]
    },
    {
     "cell_type": "heading",
     "level": 2,
     "metadata": {},
     "source": [
      "The right filter"
     ]
    },
    {
     "cell_type": "markdown",
     "metadata": {},
     "source": [
      "A std mathjax thing returns:"
     ]
    },
    {
     "cell_type": "code",
     "collapsed": false,
     "input": [
      "truc"
     ],
     "language": "python",
     "metadata": {},
     "outputs": [
      {
       "metadata": {},
       "output_type": "pyout",
       "prompt_number": 36,
       "text": [
        "'\\nWe define $f^e$:\\n$$\\nf_e: \\\\vec{x} \\\\rightarrow f(\\\\vec{x}^+) + \\\\nabla_f(\\\\vec{x}^+) (x - x^+)\\n$$\\n'"
       ]
      }
     ],
     "prompt_number": 36
    },
    {
     "cell_type": "code",
     "collapsed": false,
     "input": [
      "pandoc(truc, 'markdown', 'JSON')"
     ],
     "language": "python",
     "metadata": {},
     "outputs": [
      {
       "metadata": {},
       "output_type": "pyout",
       "prompt_number": 37,
       "text": [
        "u'[{\"unMeta\":{}},[{\"t\":\"Para\",\"c\":[{\"t\":\"Str\",\"c\":\"We\"},{\"t\":\"Space\",\"c\":[]},{\"t\":\"Str\",\"c\":\"define\"},{\"t\":\"Space\",\"c\":[]},{\"t\":\"Math\",\"c\":[{\"t\":\"InlineMath\",\"c\":[]},\"f^e\"]},{\"t\":\"Str\",\"c\":\":\"},{\"t\":\"Space\",\"c\":[]},{\"t\":\"Math\",\"c\":[{\"t\":\"DisplayMath\",\"c\":[]},\"\\\\nf_e: \\\\\\\\vec{x} \\\\\\\\rightarrow f(\\\\\\\\vec{x}^+) + \\\\\\\\nabla_f(\\\\\\\\vec{x}^+) (x - x^+)\\\\n\"]}]}]]'"
       ]
      }
     ],
     "prompt_number": 37
    },
    {
     "cell_type": "markdown",
     "metadata": {},
     "source": [
      "Look a little bit at the [pandocfilter source code](https://github.com/jgm/pandocfilters/blob/master/pandocfilters.py), and some test later, I succeded in finding the right filter."
     ]
    },
    {
     "cell_type": "code",
     "collapsed": false,
     "input": [
      "%%writefile bla.py\n",
      "#! /usr/bin/env python\n",
      "from pandocfilters import toJSONFilter, elt, Math, Para\n",
      "\n",
      "DisplayMath = elt(\"DisplayMath\",1)\n",
      "\n",
      "def unraw(key, value, format, meta):    \n",
      "    if key == 'RawBlock':\n",
      "        return Para([Math(DisplayMath([]), value[1])])\n",
      "\n",
      "if __name__ == \"__main__\":\n",
      "    toJSONFilter(unraw)\n",
      "    "
     ],
     "language": "python",
     "metadata": {},
     "outputs": [
      {
       "output_type": "stream",
       "stream": "stdout",
       "text": [
        "Overwriting bla.py\n"
       ]
      }
     ],
     "prompt_number": 38
    },
    {
     "cell_type": "code",
     "collapsed": false,
     "input": [
      "!pandoc -f markdown -t JSON --filter ./bla.py test.txt"
     ],
     "language": "python",
     "metadata": {},
     "outputs": [
      {
       "output_type": "stream",
       "stream": "stdout",
       "text": [
        "[{\"unMeta\":{}},[{\"t\":\"Plain\",\"c\":[{\"t\":\"Str\",\"c\":\"We\"},{\"t\":\"Space\",\"c\":[]},{\"t\":\"Str\",\"c\":\"define\"},{\"t\":\"Space\",\"c\":[]},{\"t\":\"Math\",\"c\":[{\"t\":\"InlineMath\",\"c\":[]},\"f^e\"]},{\"t\":\"Str\",\"c\":\":\"}]},{\"t\":\"Para\",\"c\":[{\"t\":\"Math\",\"c\":[{\"t\":\"DisplayMath\",\"c\":[]},\"\\\\begin{equation}\\nf_e: \\\\vec{x} \\\\rightarrow f(\\\\vec{x}^+) + \\\\nabla_f(\\\\vec{x}^+) (x - x^+)\\n\\\\end{equation}\"]}]}]]\r\n"
       ]
      }
     ],
     "prompt_number": 39
    },
    {
     "cell_type": "code",
     "collapsed": false,
     "input": [
      "!pandoc -f markdown -t html --mathjax --filter ./bla.py test.txt"
     ],
     "language": "python",
     "metadata": {},
     "outputs": [
      {
       "output_type": "stream",
       "stream": "stdout",
       "text": [
        "We define <span class=\"math\">\\(f^e\\)</span>:\r\n",
        "<p><span class=\"math\">\\[\\begin{equation}\r\n",
        "f_e: \\vec{x} \\rightarrow f(\\vec{x}^+) + \\nabla_f(\\vec{x}^+) (x - x^+)\r\n",
        "\\end{equation}\\]</span></p>\r\n"
       ]
      }
     ],
     "prompt_number": 40
    },
    {
     "cell_type": "markdown",
     "metadata": {},
     "source": [
      "Then dirtyly include it in IPython:"
     ]
    },
    {
     "cell_type": "code",
     "collapsed": false,
     "input": [
      "\n",
      "import subprocess\n",
      "from io import TextIOWrapper, BytesIO\n",
      "from IPython.utils.py3compat import cast_bytes\n",
      "import os\n",
      "\n",
      "def markdown2html_pandoc_new(source):\n",
      "    \n",
      "    \"\"\"Convert a markdown string to HTML via pandoc\"\"\"\n",
      "    cmd = ['pandoc', '-f', 'markdown', '-t', 'html', '--mathjax','--highlight-style', 'pygments','--filter', './bla.py', '-N']\n",
      "    \n",
      "    # we can safely continue\n",
      "    p = subprocess.Popen(cmd, stdin=subprocess.PIPE, stdout=subprocess.PIPE, cwd = os.getcwd())\n",
      "    out, _ = p.communicate(cast_bytes(source, 'utf-8'))\n",
      "    out = TextIOWrapper(BytesIO(out), 'utf-8', 'replace').read()\n",
      "    return out.rstrip('\\n')\n",
      "\n",
      "def markdown2latex_pandoc_new(source):\n",
      "    \n",
      "    \"\"\"Convert a markdown string to HTML via pandoc\"\"\"\n",
      "    cmd = ['pandoc', '-f', 'markdown', '-t', 'latex', '--filter', './bla.py', '-N']\n",
      "    \n",
      "    # we can safely continue\n",
      "    p = subprocess.Popen(cmd, stdin=subprocess.PIPE, stdout=subprocess.PIPE, cwd = os.getcwd())\n",
      "    out, _ = p.communicate(cast_bytes(source, 'utf-8'))\n",
      "    out = TextIOWrapper(BytesIO(out), 'utf-8', 'replace').read()\n",
      "    return out.rstrip('\\n')"
     ],
     "language": "python",
     "metadata": {},
     "outputs": [],
     "prompt_number": 41
    },
    {
     "cell_type": "code",
     "collapsed": false,
     "input": [
      "test2"
     ],
     "language": "python",
     "metadata": {},
     "outputs": [
      {
       "metadata": {},
       "output_type": "pyout",
       "prompt_number": 42,
       "text": [
        "'\\nWe define $f^e$:\\n\\\\begin{equation}\\nf_e: \\\\vec{x} \\\\rightarrow f(\\\\vec{x}^+) + \\\\nabla_f(\\\\vec{x}^+) (x - x^+)\\n\\\\end{equation}\\n'"
       ]
      }
     ],
     "prompt_number": 42
    },
    {
     "cell_type": "code",
     "collapsed": false,
     "input": [
      "HTML(markdown2html_pandoc_new(test2))"
     ],
     "language": "python",
     "metadata": {},
     "outputs": [
      {
       "html": [
        "We define <span class=\"math\">\\(f^e\\)</span>:\n",
        "<p><span class=\"math\">\\[\\begin{equation}\n",
        "f_e: \\vec{x} \\rightarrow f(\\vec{x}^+) + \\nabla_f(\\vec{x}^+) (x - x^+)\n",
        "\\end{equation}\\]</span></p>"
       ],
       "metadata": {},
       "output_type": "pyout",
       "prompt_number": 56,
       "text": [
        "<IPython.core.display.HTML object>"
       ]
      }
     ],
     "prompt_number": 56
    },
    {
     "cell_type": "code",
     "collapsed": false,
     "input": [
      "test3=\"\"\"\n",
      "# unnumbered title {-}\n",
      "# title {#titlelabel}\n",
      "## subtitle {#subtitlelabel}\n",
      "## subtitle {#othersubtitlelabel}\n",
      "## subtitle {#athirdsubtitlelabel}\n",
      "# second title {#secondtitlelabel}\n",
      "\"\"\"\n",
      "HTML(markdown2html_pandoc_new(test3))"
     ],
     "language": "python",
     "metadata": {},
     "outputs": [
      {
       "html": [
        "<h1 id=\"unnumbered-title\" class=\"unnumbered\">unnumbered title</h1>\n",
        "<h1 id=\"titlelabel\"><span class=\"header-section-number\">1</span> title</h1>\n",
        "<h2 id=\"subtitlelabel\"><span class=\"header-section-number\">1.1</span> subtitle</h2>\n",
        "<h2 id=\"othersubtitlelabel\"><span class=\"header-section-number\">1.2</span> subtitle</h2>\n",
        "<h2 id=\"athirdsubtitlelabel\"><span class=\"header-section-number\">1.3</span> subtitle</h2>\n",
        "<h1 id=\"secondtitlelabel\"><span class=\"header-section-number\">2</span> second title</h1>"
       ],
       "metadata": {},
       "output_type": "pyout",
       "prompt_number": 59,
       "text": [
        "<IPython.core.display.HTML object>"
       ]
      }
     ],
     "prompt_number": 59
    },
    {
     "cell_type": "code",
     "collapsed": false,
     "input": [
      "HTML(markdown2html_pandoc_new('[link](#subtitlelabel)'))"
     ],
     "language": "python",
     "metadata": {},
     "outputs": [
      {
       "html": [
        "<p><a href=\"#subtitlelabel\">link</a></p>"
       ],
       "metadata": {},
       "output_type": "pyout",
       "prompt_number": 45,
       "text": [
        "<IPython.core.display.HTML object>"
       ]
      }
     ],
     "prompt_number": 45
    },
    {
     "cell_type": "code",
     "collapsed": false,
     "input": [
      "test4=\"\"\"\n",
      "~~~~ {#mycode .python .numberLines .highlight .cm-s-ipython startFrom=\"0\"}\n",
      "class UneClasseQuiALaClasse():\n",
      "    def __init__(self):\n",
      "        truc\n",
      "~~~~~~~~~~~~~~~~~~~~~~~~~~~~~~~~~~~~~~~~~~~~~~~~~\n",
      "\"\"\"\n",
      "HTML(markdown2html_pandoc_new(test4))"
     ],
     "language": "python",
     "metadata": {},
     "outputs": [
      {
       "html": [
        "<table class=\"sourceCode python numberLines highlight cm-s-ipython\" id=\"mycode\" startFrom=\"0\"><tr class=\"sourceCode\"><td class=\"lineNumbers\"><pre>0\n",
        "1\n",
        "2\n",
        "</pre></td><td class=\"sourceCode\"><pre><code class=\"sourceCode python\"><span class=\"kw\">class</span> UneClasseQuiALaClasse():\n",
        "    <span class=\"kw\">def</span> <span class=\"ot\">__init__</span>(<span class=\"ot\">self</span>):\n",
        "        truc</code></pre></td></tr></table>"
       ],
       "metadata": {},
       "output_type": "pyout",
       "prompt_number": 46,
       "text": [
        "<IPython.core.display.HTML object>"
       ]
      }
     ],
     "prompt_number": 46
    },
    {
     "cell_type": "code",
     "collapsed": false,
     "input": [
      "Latex(markdown2latex_pandoc_new(test4))"
     ],
     "language": "python",
     "metadata": {},
     "outputs": [
      {
       "latex": [
        "\\hyperdef{}{mycode}{\\label{mycode}}\n",
        "\\begin{Shaded}\n",
        "\\begin{Highlighting}[numbers=left,,firstnumber=0,]\n",
        "\\KeywordTok{class} \\NormalTok{UneClasseQuiALaClasse():}\n",
        "    \\KeywordTok{def} \\OtherTok{__init__}\\NormalTok{(}\\OtherTok{self}\\NormalTok{):}\n",
        "        \\NormalTok{truc}\n",
        "\\end{Highlighting}\n",
        "\\end{Shaded}"
       ],
       "metadata": {},
       "output_type": "pyout",
       "prompt_number": 47,
       "text": [
        "<IPython.core.display.Latex object>"
       ]
      }
     ],
     "prompt_number": 47
    },
    {
     "cell_type": "code",
     "collapsed": false,
     "input": [
      "test5=\"\"\"\n",
      "(@label)  My first example will be numbered (1).\n",
      "(@)  My second example will be numbered (2).\n",
      "\n",
      "Explanation of examples.\n",
      "\n",
      "(@)  My third example will be numbered (3).\n",
      "\"\"\"\n",
      "HTML(markdown2html_pandoc_new(test5))"
     ],
     "language": "python",
     "metadata": {},
     "outputs": [
      {
       "html": [
        "<ol style=\"list-style-type: example\">\n",
        "<li>My first example will be numbered (1).</li>\n",
        "<li>My second example will be numbered (2).</li>\n",
        "</ol>\n",
        "<p>Explanation of examples.</p>\n",
        "<ol start=\"3\" style=\"list-style-type: example\">\n",
        "<li>My third example will be numbered (3).</li>\n",
        "</ol>"
       ],
       "metadata": {},
       "output_type": "pyout",
       "prompt_number": 48,
       "text": [
        "<IPython.core.display.HTML object>"
       ]
      }
     ],
     "prompt_number": 48
    },
    {
     "cell_type": "code",
     "collapsed": false,
     "input": [
      "HTML(markdown2html_pandoc_new(\"test sqdflkh (@label)\"))"
     ],
     "language": "python",
     "metadata": {},
     "outputs": [
      {
       "html": [
        "<p>test sqdflkh (<span class=\"citation\">@label</span>)</p>"
       ],
       "metadata": {},
       "output_type": "pyout",
       "prompt_number": 49,
       "text": [
        "<IPython.core.display.HTML object>"
       ]
      }
     ],
     "prompt_number": 49
    },
    {
     "cell_type": "code",
     "collapsed": false,
     "input": [
      "test6  =\"\"\"\n",
      "\n",
      "Superword with math $\\sqrt{42}$\n",
      "\n",
      ":   Definition\n",
      "\n",
      "\"\"\"\n",
      "\n",
      "HTML(markdown2html_pandoc_new(test6))"
     ],
     "language": "python",
     "metadata": {},
     "outputs": [
      {
       "html": [
        "<dl>\n",
        "<dt>Superword with math <span class=\"math\">\\(\\sqrt{42}\\)</span></dt>\n",
        "<dd>Definition\n",
        "</dd>\n",
        "</dl>"
       ],
       "metadata": {},
       "output_type": "pyout",
       "prompt_number": 50,
       "text": [
        "<IPython.core.display.HTML object>"
       ]
      }
     ],
     "prompt_number": 50
    },
    {
     "cell_type": "code",
     "collapsed": false,
     "input": [
      "HTML(markdown2latex_pandoc_new(test6))"
     ],
     "language": "python",
     "metadata": {},
     "outputs": [
      {
       "html": [
        "\\begin{description}\n",
        "\\itemsep1pt\\parskip0pt\\parsep0pt\n",
        "\\item[Superword with math $\\sqrt{42}$]\n",
        "Definition\n",
        "\\end{description}"
       ],
       "metadata": {},
       "output_type": "pyout",
       "prompt_number": 51,
       "text": [
        "<IPython.core.display.HTML object>"
       ]
      }
     ],
     "prompt_number": 51
    },
    {
     "cell_type": "code",
     "collapsed": false,
     "input": [],
     "language": "python",
     "metadata": {},
     "outputs": [],
     "prompt_number": 51
    }
   ],
   "metadata": {}
  }
 ]
}